{
 "cells": [
  {
   "cell_type": "markdown",
   "metadata": {},
   "source": [
    "# Sample of Experiments"
   ]
  },
  {
   "cell_type": "code",
   "execution_count": 12,
   "metadata": {},
   "outputs": [],
   "source": [
    "from Scripts.Scripts import density_of_community, community_evaluation, ADHD_classification\n",
    "\n",
    "# README:\n",
    "\n",
    "# density_of_community:\n",
    "# It has four inputs: \n",
    "# (1) dataset: it is a string, representing the name of the dataset\n",
    "# (2) query: it is an integer, representing the query node\n",
    "# (3) attributes: it is boolean with default value of False, repreenting whether dataset is attributed or not\n",
    "# (4) p: it is integer with default value of None, reperesnting the value of p if the model is AFTCS\n",
    "\n",
    "\n",
    "\n",
    "# community_evaluation:\n",
    "# It has six inputs: \n",
    "# (1) dataset: it is a string, representing the name of the dataset\n",
    "# (2) C: it is a 2D list, representing the list of ground-truth communities\n",
    "# (3) query: it is an integer, representing the query node\n",
    "# (4) attributes: it is boolean with default value of False, repreenting whether dataset is attributed or not\n",
    "# (5) p: it is integer with default value of None, reperesnting the value of p if the model is AFTCS\n",
    "\n",
    "\n",
    "\n",
    "# ADHD_classification:\n",
    "# It has ten inputs:\n",
    "# n_adhd: it is an integer, representing the number of ADHD samples in the first phase\n",
    "# n_td: it is an integer, representing the number of TD samples in the first phase\n",
    "# k_td: it is an integer, representing the k for TD samples\n",
    "# lammy_td: it is an integer, representing the lambda for TD samples\n",
    "# k_adhd: it is an integer, representing the k for ADHD samples\n",
    "# lammy_adhd: it is an integer, representing the lambda for ADHD samples\n",
    "# query_node: it is an integer, representing the query node\n",
    "# measure: it is a string, representing the similarity measure of communitys. Options: Jaccard, overlap, F1\n",
    "# creat_data: it is boolean, representing whether user want to randomly generate data or not\n",
    "# verbos: it is boolean, representing whether print communities or not"
   ]
  },
  {
   "cell_type": "markdown",
   "metadata": {},
   "source": [
    "## Density Evaluation:"
   ]
  },
  {
   "cell_type": "code",
   "execution_count": 2,
   "metadata": {},
   "outputs": [
    {
     "name": "stdout",
     "output_type": "stream",
     "text": [
      ">>>>>> Density of this community is : 1007.364705882353\n"
     ]
    }
   ],
   "source": [
    "dataset = \"FAO\"\n",
    "query = 54\n",
    "# query = 5 \n",
    "# query = 13\n",
    "# query = 130\n",
    "\n",
    "density_of_community(dataset, query, attributes=False)\n",
    "\n",
    "\n",
    "# Since choosing the index, (k, lambda) is random, the output can be different in each run"
   ]
  },
  {
   "cell_type": "code",
   "execution_count": 3,
   "metadata": {},
   "outputs": [
    {
     "name": "stdout",
     "output_type": "stream",
     "text": [
      ">>>>>> Density of this community is : 10.829787234042554\n"
     ]
    }
   ],
   "source": [
    "dataset = \"Obamainisrael\"\n",
    "query = 24\n",
    "# query = 83998\n",
    "# query = 43043\n",
    "# query = 12362\n",
    "\n",
    "density_of_community(dataset, query, attributes=False)"
   ]
  },
  {
   "cell_type": "code",
   "execution_count": 4,
   "metadata": {},
   "outputs": [
    {
     "name": "stdout",
     "output_type": "stream",
     "text": [
      ">>>>>> Density of this community is : 160.18925831202046\n"
     ]
    }
   ],
   "source": [
    "dataset = \"Yeast\"\n",
    "# query = 3\n",
    "query = 4108\n",
    "\n",
    "density_of_community(dataset, query, attributes=False)"
   ]
  },
  {
   "cell_type": "code",
   "execution_count": 5,
   "metadata": {},
   "outputs": [
    {
     "name": "stdout",
     "output_type": "stream",
     "text": [
      ">>>>>> Density of this community is : 22.0\n"
     ]
    }
   ],
   "source": [
    "dataset = \"Higgs\"\n",
    "query = 17784\n",
    "# query = 17786\n",
    "\n",
    "density_of_community(dataset, query, attributes=False)"
   ]
  },
  {
   "cell_type": "markdown",
   "metadata": {},
   "source": [
    "## Quality of Communities"
   ]
  },
  {
   "cell_type": "code",
   "execution_count": 6,
   "metadata": {},
   "outputs": [
    {
     "name": "stdout",
     "output_type": "stream",
     "text": [
      ">>>>>> F1-score : 0.931297709923664\n"
     ]
    }
   ],
   "source": [
    "dataset = \"RM\"\n",
    "C = [{1, 2, 3, 4, 5, 6, 7, 8, 9, 10, 11, 13, 14, 15, 16, 17, 18, 19, 20, 21, 22, 23, 24, 25, 26, 27, 28, 29, 30, 31, 32, 33, 34, 35, 37, 42, 44, 49, 50, 52, 53, 55, 56, 57, 59, 61, 63, 66, 67, 70, 71, 74, 75, 77, 78, 79, 81, 83, 86, 87, 88, 89, 90, 91},\n",
    "    {12, 36, 38, 39, 40, 41, 43, 45, 46, 47, 48, 51, 54, 58, 60, 62, 64, 65, 68, 69, 72, 73, 76, 80, 82, 84, 85}]\n",
    "\n",
    "# query = 3\n",
    "# query = 38\n",
    "# query = 45\n",
    "# query = 69\n",
    "# query = 73\n",
    "query = 30\n",
    "\n",
    "community_evaluation(dataset, C, query)"
   ]
  },
  {
   "cell_type": "code",
   "execution_count": 7,
   "metadata": {},
   "outputs": [
    {
     "name": "stdout",
     "output_type": "stream",
     "text": [
      ">>>>>> F1-score : 0.6756756756756757\n"
     ]
    }
   ],
   "source": [
    "dataset = \"Terrorist\"\n",
    "C = [{3, 18, 24, 36, 38, 39, 44, 48, 50, 55, 56, 57, 63, 64},\n",
    "    {1, 2, 9, 12, 14, 15, 16, 19, 29, 30, 35, 62, 66},\n",
    "    {4, 20, 21, 27, 42, 47, 53, 60, 65}, \n",
    "    {5, 6, 7, 8, 10, 11, 13, 17, 22, 23, 25, 26, 28, 31, 33, 34, 40, 46, 49, 51, 52, 54, 58, 59, 61, 67, 68, 69, 70, 71, 72, 73, 74, 75, 76, 77, 78, 79},\n",
    "    {32, 37, 41, 43, 45}]\n",
    "\n",
    "query = 69\n",
    "# query = 73\n",
    "# query = 41\n",
    "# query = 30\n",
    "\n",
    "community_evaluation(dataset, C, query)"
   ]
  },
  {
   "cell_type": "code",
   "execution_count": 8,
   "metadata": {},
   "outputs": [
    {
     "name": "stdout",
     "output_type": "stream",
     "text": [
      ">>>>>> F1-score : 0.7142857142857142\n"
     ]
    }
   ],
   "source": [
    "dataset = \"Terrorist\"\n",
    "C = [{3, 18, 24, 36, 38, 39, 44, 48, 50, 55, 56, 57, 63, 64},\n",
    "    {1, 2, 9, 12, 14, 15, 16, 19, 29, 30, 35, 62, 66},\n",
    "    {4, 20, 21, 27, 42, 47, 53, 60, 65}, \n",
    "    {5, 6, 7, 8, 10, 11, 13, 17, 22, 23, 25, 26, 28, 31, 33, 34, 40, 46, 49, 51, 52, 54, 58, 59, 61, 67, 68, 69, 70, 71, 72, 73, 74, 75, 76, 77, 78, 79},\n",
    "    {32, 37, 41, 43, 45}]\n",
    "\n",
    "# query = 69\n",
    "# query = 73\n",
    "# query = 41\n",
    "query = 30\n",
    "\n",
    "community_evaluation(dataset, C, query, attributes=True, p=-101)\n",
    "# community_evaluation(dataset, C, query, attributes=True, p=1)\n",
    "\n",
    "\n",
    "# p < -100 indicates p = -inf"
   ]
  },
  {
   "cell_type": "markdown",
   "metadata": {},
   "source": [
    "## ADHD Classification"
   ]
  },
  {
   "cell_type": "code",
   "execution_count": 9,
   "metadata": {},
   "outputs": [
    {
     "name": "stderr",
     "output_type": "stream",
     "text": [
      "100%|██████████| 100/100 [03:53<00:00,  2.33s/it]\n",
      "100%|██████████| 100/100 [04:42<00:00,  2.83s/it]\n"
     ]
    },
    {
     "data": {
      "text/plain": [
       "(0.8181818181818182,\n",
       " 0.5869565217391305,\n",
       " 0.7222222222222222,\n",
       " 0.6835443037974683)"
      ]
     },
     "execution_count": 9,
     "metadata": {},
     "output_type": "execute_result"
    }
   ],
   "source": [
    "ADHD_classification(n_adhd=90, n_td=230, k_td=7, lammy_td=25, k_adhd=7, lammy_adhd=15, query_node=88, measure=\"overlap\", verbos=False)\n",
    "\n",
    "# First output is precision\n",
    "# Second output is recall\n",
    "# Third output is accuracy\n",
    "# Fourth output is F1-score"
   ]
  }
 ],
 "metadata": {
  "kernelspec": {
   "display_name": "Python 3",
   "language": "python",
   "name": "python3"
  },
  "language_info": {
   "codemirror_mode": {
    "name": "ipython",
    "version": 3
   },
   "file_extension": ".py",
   "mimetype": "text/x-python",
   "name": "python",
   "nbconvert_exporter": "python",
   "pygments_lexer": "ipython3",
   "version": "3.8.5"
  }
 },
 "nbformat": 4,
 "nbformat_minor": 4
}
