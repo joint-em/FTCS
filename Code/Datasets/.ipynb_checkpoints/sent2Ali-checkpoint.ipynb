{
 "cells": [
  {
   "cell_type": "code",
   "execution_count": 6,
   "metadata": {},
   "outputs": [],
   "source": [
    "\n",
    "with open('lda.topToWor.txt') as f:\n",
    "    lines = f.readlines()\n",
    "topics= []\n",
    "for i in range(len(lines)):    \n",
    "    a = lines[i].split(\":\",1)\n",
    "    b = a[1].split(\" \")\n",
    "    topics.append(b)\n",
    "    "
   ]
  },
  {
   "cell_type": "code",
   "execution_count": 7,
   "metadata": {},
   "outputs": [],
   "source": [
    "with open('lda.docToTop.txt') as f:\n",
    "#      docs= f.readlines()\n",
    "    docs = f.read().splitlines()\n",
    "doc= []\n",
    "for i in range(len(docs)):    \n",
    "    c = docs[i].split(\"\\t\")\n",
    "    doc.append(c)"
   ]
  },
  {
   "cell_type": "code",
   "execution_count": 8,
   "metadata": {},
   "outputs": [],
   "source": [
    "main_array=[]\n",
    "for i in range(len(doc)):\n",
    "#     new_row=[]\n",
    "    d1=doc[i][0].split(\"/\")\n",
    "    d2=doc[i][2].split(\" \")\n",
    "    prob=[]\n",
    "    for j in d2:\n",
    "        d3=j.split(\",\")\n",
    "        prob.append([int(d3[0][1:]), float(d3[1][:-1])])\n",
    "    main_array.append([d1,prob])    \n",
    "    "
   ]
  },
  {
   "cell_type": "code",
   "execution_count": 9,
   "metadata": {},
   "outputs": [
    {
     "name": "stdout",
     "output_type": "stream",
     "text": [
      "4144848\n"
     ]
    }
   ],
   "source": [
    "print(len(main_array))"
   ]
  },
  {
   "cell_type": "code",
   "execution_count": 10,
   "metadata": {},
   "outputs": [
    {
     "name": "stdout",
     "output_type": "stream",
     "text": [
      "[['Gonzalo_Mart&iacute;nez-Mu&ntilde;oz', 'Natalia_Larios'], [[72, 0.545455], [27, 0.454545]]]\n"
     ]
    }
   ],
   "source": [
    "print(main_array[0])"
   ]
  },
  {
   "cell_type": "code",
   "execution_count": 21,
   "metadata": {},
   "outputs": [],
   "source": [
    "re_ind_au = dict({})\n",
    "re_au_ind = dict({})\n",
    "with open('DBLP_dict.txt') as f:\n",
    "#      docs= f.readlines()\n",
    "    ddi = f.read().splitlines()\n",
    "\n",
    "for i in range(len(ddi)):    \n",
    "    cc = ddi[i].split(\" \")\n",
    "    re_au_ind[cc[0]]= int(cc[1])-1\n",
    "    re_ind_au[int(cc[1])-1]= cc[0]\n",
    "    "
   ]
  },
  {
   "cell_type": "code",
   "execution_count": 22,
   "metadata": {},
   "outputs": [
    {
     "name": "stdout",
     "output_type": "stream",
     "text": [
      "[[787678, 459670], [844988, 672931], [924013, 389193], [50621, 811492], [279486, 329976], [500945, 549252], [422997, 798200], [983067, 453740], [334016, 173202], [334016, 673730]]\n"
     ]
    }
   ],
   "source": [
    "graph2=[[] for i in range(100)]\n",
    "for i in range(len(main_array)):\n",
    "    for t in range(len(main_array[i][1])):\n",
    "        graph2[main_array[i][1][t][0]].append([re_au_ind[main_array[i][0][0]],re_au_ind[main_array[i][0][1]]])\n",
    "print(graph2[0][:10])  "
   ]
  },
  {
   "cell_type": "code",
   "execution_count": 13,
   "metadata": {},
   "outputs": [
    {
     "name": "stdout",
     "output_type": "stream",
     "text": [
      "1089442\n"
     ]
    }
   ],
   "source": [
    "re_authors=re_au_ind.keys()\n",
    "print(len(re_authors))\n"
   ]
  },
  {
   "cell_type": "code",
   "execution_count": null,
   "metadata": {},
   "outputs": [],
   "source": [
    "####################################################"
   ]
  },
  {
   "cell_type": "code",
   "execution_count": 14,
   "metadata": {},
   "outputs": [],
   "source": [
    "\n",
    "with open('lda.topToWor.txt') as f:\n",
    "#      docs= f.readlines()\n",
    "    tops = f.read().splitlines()\n",
    "raw_top= []\n",
    "for i in range(len(tops)):    \n",
    "    cc = tops[i].split(\" \")\n",
    "    raw_top.append(cc[:-1])"
   ]
  },
  {
   "cell_type": "code",
   "execution_count": 15,
   "metadata": {},
   "outputs": [
    {
     "name": "stdout",
     "output_type": "stream",
     "text": [
      "['Topic', '0:', '(problem,0.230018)', '(algorithm,0.109661)', '(schedul,0.101881)', '(solv,0.0690986)', '(constraint,0.0580681)', '(optim,0.0536384)', '(heurist,0.0414994)', '(search,0.0389938)', '(program,0.034656)', '(time,0.0331418)', '(approach,0.0329117)', '(rout,0.0285447)', '(approxim,0.0247967)', '(machin,0.0233661)', '(assign,0.0228307)', '(minim,0.0215382)', '(job,0.0211868)', '(solut,0.0188025)', '(parallel,0.0177066)', '(flow,0.0176606)']\n"
     ]
    }
   ],
   "source": [
    "print( raw_top[0])"
   ]
  },
  {
   "cell_type": "code",
   "execution_count": 16,
   "metadata": {},
   "outputs": [],
   "source": [
    "main_tops=[]\n",
    "for i in range(len(raw_top)):\n",
    "    row_w = []\n",
    "    for j in range(2,len(raw_top[i])):\n",
    "        d1=raw_top[i][j].split(\",\")\n",
    "        row_w.append([str(d1[0][1:]), float(d1[1][:-1])])\n",
    "    main_tops.append(row_w)\n"
   ]
  },
  {
   "cell_type": "code",
   "execution_count": 17,
   "metadata": {},
   "outputs": [
    {
     "name": "stdout",
     "output_type": "stream",
     "text": [
      "[['problem', 0.230018], ['algorithm', 0.109661], ['schedul', 0.101881], ['solv', 0.0690986], ['constraint', 0.0580681], ['optim', 0.0536384], ['heurist', 0.0414994], ['search', 0.0389938], ['program', 0.034656], ['time', 0.0331418], ['approach', 0.0329117], ['rout', 0.0285447], ['approxim', 0.0247967], ['machin', 0.0233661], ['assign', 0.0228307], ['minim', 0.0215382], ['job', 0.0211868], ['solut', 0.0188025], ['parallel', 0.0177066], ['flow', 0.0176606]]\n"
     ]
    }
   ],
   "source": [
    "print(main_tops[0])"
   ]
  },
  {
   "cell_type": "code",
   "execution_count": 18,
   "metadata": {},
   "outputs": [],
   "source": [
    "all_topics=set()\n",
    "dup=0\n",
    "for i in range(len(main_tops)):\n",
    "    for j in range(4):\n",
    "        all_topics.add(main_tops[i][j][0])\n",
    "        dup=dup+1"
   ]
  },
  {
   "cell_type": "code",
   "execution_count": 19,
   "metadata": {},
   "outputs": [
    {
     "name": "stdout",
     "output_type": "stream",
     "text": [
      "240\n",
      "['chain', 'high', 'map', 'protein', 'agrav', 'shape', 'transform', 'model', 'sen', 'technolog']\n",
      "400\n"
     ]
    }
   ],
   "source": [
    "print(len(all_topics))\n",
    "all_topics= list(all_topics)\n",
    "print(all_topics[:10])\n",
    "print(dup)"
   ]
  },
  {
   "cell_type": "code",
   "execution_count": 20,
   "metadata": {},
   "outputs": [],
   "source": [
    "top_to_ind= dict({})\n",
    "ind_to_top = dict({})\n",
    "for i in range(len(all_topics)):\n",
    "    top_to_ind[all_topics[i]] = i\n",
    "    ind_to_top[i] = all_topics[i]"
   ]
  },
  {
   "cell_type": "code",
   "execution_count": null,
   "metadata": {},
   "outputs": [],
   "source": [
    "####################################33"
   ]
  },
  {
   "cell_type": "code",
   "execution_count": null,
   "metadata": {},
   "outputs": [],
   "source": [
    "with open('top_dict.txt', 'w') as f:\n",
    "    for i in range(all_topics):\n",
    "        f.write(all_topics[i]+\" \"+str(top_to_ind[all_topics[i]]+1))\n",
    "        f.write('\\n')"
   ]
  },
  {
   "cell_type": "code",
   "execution_count": null,
   "metadata": {},
   "outputs": [],
   "source": [
    "#####################################"
   ]
  },
  {
   "cell_type": "code",
   "execution_count": null,
   "metadata": {},
   "outputs": [],
   "source": [
    "degree_matrix = [[0 for j in range(100)] for i in range(len(re_authors))]\n",
    "for i in range(len(graph2)):\n",
    "    for j in range(len(graph2[i])):\n",
    "        degree_matrix[graph2[i][j][0]][i] +=1\n",
    "        degree_matrix[graph2[i][j][1]][i] +=1\n",
    "        \n"
   ]
  },
  {
   "cell_type": "code",
   "execution_count": null,
   "metadata": {},
   "outputs": [],
   "source": [
    "attribute_matrix = [[0 for j in range(240)] for i in range(len(re_authors))]\n",
    "for i in range(len(re_authors)):\n",
    "    for j in range(100):\n",
    "        for t in range(4):\n",
    "            attribute_matrix[i][top_to_ind[main_tops[j][t][0]]] += degree_matrix[i][j]* main_tops[j][t][1]/degree_matrix[i].sum()"
   ]
  }
 ],
 "metadata": {
  "kernelspec": {
   "display_name": "Python 3",
   "language": "python",
   "name": "python3"
  },
  "language_info": {
   "codemirror_mode": {
    "name": "ipython",
    "version": 3
   },
   "file_extension": ".py",
   "mimetype": "text/x-python",
   "name": "python",
   "nbconvert_exporter": "python",
   "pygments_lexer": "ipython3",
   "version": "3.8.5"
  }
 },
 "nbformat": 4,
 "nbformat_minor": 4
}
